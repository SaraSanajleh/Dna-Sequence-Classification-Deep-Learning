{
  "cells": [
    {
      "cell_type": "markdown",
      "metadata": {
        "id": "ZeiAWQTqZtWx"
      },
      "source": [
        "# Define Libraries"
      ]
    },
    {
      "cell_type": "code",
      "execution_count": null,
      "metadata": {
        "id": "nzC9qoarQzC7"
      },
      "outputs": [],
      "source": [
        "import numpy as np\n",
        "import pandas as pd\n",
        "import seaborn as sns\n",
        "import matplotlib.pyplot as plt\n",
        "from itertools import chain\n",
        "\n",
        "from sklearn.model_selection import train_test_split\n",
        "from sklearn.preprocessing import LabelEncoder\n",
        "from sklearn.metrics import accuracy_score, classification_report, confusion_matrix\n",
        "\n",
        "import tensorflow as tf\n",
        "from tensorflow.keras.models import Sequential\n",
        "from tensorflow.keras.layers import (\n",
        "    Embedding, LSTM, GRU, Bidirectional, Dense, Dropout, BatchNormalization,\n",
        "    Conv1D, MaxPooling1D, Flatten\n",
        ")\n",
        "from tensorflow.keras.preprocessing.text import Tokenizer\n",
        "from tensorflow.keras.preprocessing.sequence import pad_sequences\n",
        "from tensorflow.keras.optimizers import Adam\n",
        "from tensorflow.keras.callbacks import EarlyStopping\n",
        "\n",
        "import torch\n",
        "import torch.nn as nn\n",
        "import torch.optim as optim\n",
        "from torch.utils.data import DataLoader, TensorDataset\n"
      ]
    },
    {
      "cell_type": "markdown",
      "metadata": {
        "id": "69sr1-r9aivy"
      },
      "source": [
        "# EDA & PreProcessing"
      ]
    },
    {
      "cell_type": "code",
      "execution_count": null,
      "metadata": {
        "colab": {
          "base_uri": "https://localhost:8080/"
        },
        "id": "4Ch5v1JZacvh",
        "outputId": "2ef4923c-e9e6-4fd9-9472-924738b09637"
      },
      "outputs": [
        {
          "output_type": "stream",
          "name": "stdout",
          "text": [
            "                                            sequence  class\n",
            "0  ATGCCCCAACTAAATACTACCGTATGGCCCACCATAATTACCCCCA...      4\n",
            "1  ATGAACGAAAATCTGTTCGCTTCATTCATTGCCCCCACAATCCTAG...      4\n",
            "2  ATGTGTGGCATTTGGGCGCTGTTTGGCAGTGATGATTGCCTTTCTG...      3\n",
            "3  ATGTGTGGCATTTGGGCGCTGTTTGGCAGTGATGATTGCCTTTCTG...      3\n",
            "4  ATGCAACAGCATTTTGAATTTGAATACCAGACCAAAGTGGATGGTG...      3\n"
          ]
        }
      ],
      "source": [
        "data = pd.read_csv(\"human.txt\", sep=\"\\t\")\n",
        "print(data.head())"
      ]
    },
    {
      "cell_type": "code",
      "source": [
        "missing_values = data[['sequence', 'class']].isnull().sum()\n",
        "print(\"missing_values  :\", missing_values)\n"
      ],
      "metadata": {
        "colab": {
          "base_uri": "https://localhost:8080/"
        },
        "id": "lhfazcKiOBKn",
        "outputId": "8364a735-940d-46b7-d1b7-4cded9cc1440"
      },
      "execution_count": null,
      "outputs": [
        {
          "output_type": "stream",
          "name": "stdout",
          "text": [
            "missing_values  : sequence    0\n",
            "class       0\n",
            "dtype: int64\n"
          ]
        }
      ]
    },
    {
      "cell_type": "code",
      "source": [
        "\n",
        "print(data['class'].isna().sum())\n",
        "print(data['class'].unique())\n"
      ],
      "metadata": {
        "colab": {
          "base_uri": "https://localhost:8080/"
        },
        "id": "uiYkL1RBNEeP",
        "outputId": "7b1a37f1-d6c7-4f21-a4fa-3cdeafddcbc9"
      },
      "execution_count": null,
      "outputs": [
        {
          "output_type": "stream",
          "name": "stdout",
          "text": [
            "0\n",
            "[4 3 5 2 6 0 1]\n"
          ]
        }
      ]
    },
    {
      "cell_type": "code",
      "execution_count": null,
      "metadata": {
        "colab": {
          "base_uri": "https://localhost:8080/",
          "height": 472
        },
        "id": "LYiqRsUoabqM",
        "outputId": "30859167-1c40-43a1-a78b-850dcedcd4be"
      },
      "outputs": [
        {
          "output_type": "display_data",
          "data": {
            "text/plain": [
              "<Figure size 640x480 with 1 Axes>"
            ],
            "image/png": "[encoded data removed]"
          },
          "metadata": {}
        }
      ],
      "source": [
        "sns.countplot(data=data, x='class')\n",
        "plt.title('Class Distribution')\n",
        "plt.show()\n"
      ]
    },
    {
      "cell_type": "code",
      "execution_count": null,
      "metadata": {
        "colab": {
          "base_uri": "https://localhost:8080/"
        },
        "id": "CRXZBWv-bOEe",
        "outputId": "c4109bd6-6391-422f-ba6d-10705758c3bc"
      },
      "outputs": [
        {
          "output_type": "stream",
          "name": "stdout",
          "text": [
            "<class 'pandas.core.frame.DataFrame'>\n",
            "RangeIndex: 4380 entries, 0 to 4379\n",
            "Data columns (total 2 columns):\n",
            " #   Column    Non-Null Count  Dtype \n",
            "---  ------    --------------  ----- \n",
            " 0   sequence  4380 non-null   object\n",
            " 1   class     4380 non-null   int64 \n",
            "dtypes: int64(1), object(1)\n",
            "memory usage: 68.6+ KB\n",
            "None\n"
          ]
        }
      ],
      "source": [
        "print(data.info())"
      ]
    },
    {
      "cell_type": "code",
      "execution_count": null,
      "metadata": {
        "colab": {
          "base_uri": "https://localhost:8080/"
        },
        "id": "KnIHFmirbN1z",
        "outputId": "65f4768a-cfc3-42df-f052-d25004470bc8"
      },
      "outputs": [
        {
          "output_type": "stream",
          "name": "stdout",
          "text": [
            "             class\n",
            "count  4380.000000\n",
            "mean      3.504566\n",
            "std       2.132134\n",
            "min       0.000000\n",
            "25%       2.000000\n",
            "50%       4.000000\n",
            "75%       6.000000\n",
            "max       6.000000\n"
          ]
        }
      ],
      "source": [
        "print(data.describe())"
      ]
    },
    {
      "cell_type": "code",
      "execution_count": null,
      "metadata": {
        "colab": {
          "base_uri": "https://localhost:8080/"
        },
        "id": "hv_Ei6ytbbfe",
        "outputId": "eff456bf-a252-40a6-9340-79aa84c55ae2"
      },
      "outputs": [
        {
          "output_type": "stream",
          "name": "stdout",
          "text": [
            "sequence    3629\n",
            "class          7\n",
            "dtype: int64\n"
          ]
        }
      ],
      "source": [
        "print(data.nunique())"
      ]
    },
    {
      "cell_type": "code",
      "source": [
        "data.shape"
      ],
      "metadata": {
        "colab": {
          "base_uri": "https://localhost:8080/"
        },
        "id": "TQR8Aw6YUQP9",
        "outputId": "43301670-7da2-4170-c5cb-ea4abfccf1d8"
      },
      "execution_count": null,
      "outputs": [
        {
          "output_type": "execute_result",
          "data": {
            "text/plain": [
              "(4380, 3)"
            ]
          },
          "metadata": {},
          "execution_count": 22
        }
      ]
    },
    {
      "cell_type": "code",
      "execution_count": null,
      "metadata": {
        "colab": {
          "base_uri": "https://localhost:8080/",
          "height": 564
        },
        "id": "5q8d5yCxbgM2",
        "outputId": "e5df24d6-0296-4bc1-8744-fce9929a8bfe"
      },
      "outputs": [
        {
          "output_type": "display_data",
          "data": {
            "text/plain": [
              "<Figure size 1000x600 with 1 Axes>"
            ],
            "image/png": "[encoded data removed]"
          },
          "metadata": {}
        }
      ],
      "source": [
        "data['sequence_length'] = data['sequence'].apply(len)\n",
        "\n",
        "plt.figure(figsize=(10, 6))\n",
        "sns.boxplot(x='class', y='sequence_length', data=data)\n",
        "plt.title('Sequence Length Distribution by Class')\n",
        "plt.xlabel('Class')\n",
        "plt.ylabel('Sequence Length')\n",
        "plt.show()\n"
      ]
    },
    {
      "cell_type": "code",
      "execution_count": null,
      "metadata": {
        "colab": {
          "base_uri": "https://localhost:8080/"
        },
        "id": "cpJvAXN1cvOr",
        "outputId": "b56b2501-60a9-442a-9ff4-17160cf345e5"
      },
      "outputs": [
        {
          "output_type": "stream",
          "name": "stdout",
          "text": [
            "Number of values remaining after removing outliers: 4236\n"
          ]
        },
        {
          "output_type": "stream",
          "name": "stderr",
          "text": [
            "<ipython-input-21-1967ac3fb0bb>:10: DeprecationWarning: DataFrameGroupBy.apply operated on the grouping columns. This behavior is deprecated, and in a future version of pandas the grouping columns will be excluded from the operation. Either pass `include_groups=False` to exclude the groupings or explicitly select the grouping columns after groupby to silence this warning.\n",
            "  data_cleaned = data.groupby('class').apply(remove_outliers)\n"
          ]
        }
      ],
      "source": [
        "def remove_outliers(group):\n",
        "    Q1 = group['sequence_length'].quantile(0.25)\n",
        "    Q3 = group['sequence_length'].quantile(0.75)\n",
        "    IQR = Q3 - Q1\n",
        "    lower_bound = Q1 - 1.5 * IQR\n",
        "    upper_bound = Q3 + 1.5 * IQR\n",
        "\n",
        "    return group[(group['sequence_length'] >= lower_bound) & (group['sequence_length'] <= upper_bound)]\n",
        "\n",
        "data_cleaned = data.groupby('class').apply(remove_outliers)\n",
        "\n",
        "print(f\"Number of values remaining after removing outliers: {len(data_cleaned)}\")\n",
        "\n",
        "\n"
      ]
    },
    {
      "cell_type": "code",
      "execution_count": null,
      "metadata": {
        "colab": {
          "base_uri": "https://localhost:8080/"
        },
        "id": "LIyI9bJXdjDi",
        "outputId": "07221442-5407-4e61-c4d1-3fae0809457e"
      },
      "outputs": [
        {
          "output_type": "execute_result",
          "data": {
            "text/plain": [
              "(4306, 3)"
            ]
          },
          "metadata": {},
          "execution_count": 9
        }
      ],
      "source": [
        "data_cleaned.shape"
      ]
    },
    {
      "cell_type": "code",
      "execution_count": null,
      "metadata": {
        "colab": {
          "base_uri": "https://localhost:8080/",
          "height": 564
        },
        "id": "lJGTTMpRb8Lm",
        "outputId": "d350391c-3a99-4c74-ade3-39070d9e985b"
      },
      "outputs": [
        {
          "output_type": "display_data",
          "data": {
            "text/plain": [
              "<Figure size 1000x600 with 1 Axes>"
            ],
            "image/png": "[encoded data removed]"
          },
          "metadata": {}
        }
      ],
      "source": [
        "plt.figure(figsize=(10, 6))\n",
        "sns.histplot(data['sequence_length'], kde=True, bins=30)\n",
        "plt.title('Distribution of Sequence Lengths')\n",
        "plt.xlabel('Sequence Length')\n",
        "plt.ylabel('Frequency')\n",
        "plt.show()\n"
      ]
    },
    {
      "cell_type": "markdown",
      "source": [
        "#K-mers"
      ],
      "metadata": {
        "id": "hJq9z2kYP1SG"
      }
    },
    {
      "cell_type": "code",
      "source": [
        "\n",
        "\n",
        "def get_kmers(sequence, k=6):\n",
        "    return [sequence[i:i+k] for i in range(len(sequence) - k + 1)]\n",
        "\n",
        "data_cleaned['kmers'] = data_cleaned['sequence'].apply(lambda x: get_kmers(x, k))\n",
        "\n",
        "all_kmers = list(chain(*data_cleaned['kmers'].values))\n",
        "vocab = {kmer: idx+1 for idx, kmer in enumerate(set(all_kmers))}\n",
        "vocab_size = len(vocab) + 1\n",
        "\n",
        "data_cleaned['encoded_kmers'] = data_cleaned['kmers'].apply(lambda kmers: [vocab[kmer] for kmer in kmers if kmer in vocab])\n",
        "\n",
        "max_length = min(max(len(seq) for seq in data_cleaned['encoded_kmers']), 500)\n",
        "print(f\"Max Sequence Length: {max_length}\")\n",
        "\n",
        "\n",
        "X_padded = tf.keras.preprocessing.sequence.pad_sequences(data_cleaned['encoded_kmers'], maxlen=max_length, padding=\"post\")\n",
        "\n"
      ],
      "metadata": {
        "colab": {
          "base_uri": "https://localhost:8080/"
        },
        "id": "enwgyukhPpb2",
        "outputId": "68a8c701-fd38-48fe-db6a-c75534de9514"
      },
      "execution_count": null,
      "outputs": [
        {
          "output_type": "stream",
          "name": "stdout",
          "text": [
            "Max Sequence Length: 500\n"
          ]
        }
      ]
    },
    {
      "cell_type": "markdown",
      "source": [
        "# **Models**"
      ],
      "metadata": {
        "id": "ghNZSksiOU_2"
      }
    },
    {
      "cell_type": "markdown",
      "source": [
        "#LSTM"
      ],
      "metadata": {
        "id": "xFmyWqKwRoMm"
      }
    },
    {
      "cell_type": "code",
      "source": [
        "\n",
        "y = data['class'].values\n",
        "X_train, X_test, y_train, y_test = train_test_split(X_padded, y, test_size=0.2, random_state=42)\n"
      ],
      "metadata": {
        "id": "EO7hN5nNRnIu"
      },
      "execution_count": null,
      "outputs": []
    },
    {
      "cell_type": "code",
      "source": [
        "\n",
        "\n",
        "model = Sequential([\n",
        "    Embedding(input_dim=vocab_size, output_dim=128, input_length=max_length),\n",
        "    Bidirectional(LSTM(256, return_sequences=True, dropout=0.3, recurrent_dropout=0.3)),\n",
        "    Bidirectional(LSTM(128, dropout=0.3, recurrent_dropout=0.3)),\n",
        "    BatchNormalization(),\n",
        "    Dense(128, activation=\"relu\"),\n",
        "    Dropout(0.5),\n",
        "    Dense(len(set(y)), activation=\"softmax\")\n",
        "])\n",
        "\n",
        "optimizer = Adam(learning_rate=0.001)\n",
        "model.compile(loss=\"sparse_categorical_crossentropy\", optimizer=optimizer, metrics=[\"accuracy\"])\n",
        "\n",
        "history = model.fit(X_train, y_train, validation_data=(X_test, y_test), epochs=10, batch_size=32, verbose=1)\n",
        "\n",
        "test_loss, test_acc = model.evaluate(X_test, y_test, verbose=0)\n",
        "print(f\"Final Accuracy on test set: {test_acc:.2%}\")\n"
      ],
      "metadata": {
        "id": "4mhceSKZyrdS",
        "colab": {
          "base_uri": "https://localhost:8080/"
        },
        "outputId": "86bf49ff-85f0-4ff5-df33-ac9fc67df1d5"
      },
      "execution_count": null,
      "outputs": [
        {
          "metadata": {
            "tags": null
          },
          "name": "stdout",
          "output_type": "stream",
          "text": [
            "Max Sequence Length: 500\n"
          ]
        },
        {
          "metadata": {
            "tags": null
          },
          "name": "stderr",
          "output_type": "stream",
          "text": [
            "/usr/local/lib/python3.11/dist-packages/keras/src/layers/core/embedding.py:90: UserWarning: Argument `input_length` is deprecated. Just remove it.\n",
            "  warnings.warn(\n"
          ]
        },
        {
          "output_type": "stream",
          "name": "stdout",
          "text": [
            "Epoch 1/10\n",
            "\u001b[1m110/110\u001b[0m \u001b[32m━━━━━━━━━━━━━━━━━━━━\u001b[0m\u001b[37m\u001b[0m \u001b[1m1603s\u001b[0m 14s/step - accuracy: 0.2812 - loss: 1.8403 - val_accuracy: 0.4258 - val_loss: 1.8204\n",
            "Epoch 2/10\n",
            "\u001b[1m110/110\u001b[0m \u001b[32m━━━━━━━━━━━━━━━━━━━━\u001b[0m\u001b[37m\u001b[0m \u001b[1m1624s\u001b[0m 14s/step - accuracy: 0.6776 - loss: 1.0046 - val_accuracy: 0.6290 - val_loss: 1.6925\n",
            "Epoch 3/10\n",
            "\u001b[1m110/110\u001b[0m \u001b[32m━━━━━━━━━━━━━━━━━━━━\u001b[0m\u001b[37m\u001b[0m \u001b[1m1582s\u001b[0m 14s/step - accuracy: 0.8447 - loss: 0.5065 - val_accuracy: 0.7192 - val_loss: 1.1908\n",
            "Epoch 4/10\n",
            "\u001b[1m110/110\u001b[0m \u001b[32m━━━━━━━━━━━━━━━━━━━━\u001b[0m\u001b[37m\u001b[0m \u001b[1m1590s\u001b[0m 14s/step - accuracy: 0.9021 - loss: 0.3102 - val_accuracy: 0.7249 - val_loss: 0.9110\n",
            "Epoch 5/10\n",
            "\u001b[1m110/110\u001b[0m \u001b[32m━━━━━━━━━━━━━━━━━━━━\u001b[0m\u001b[37m\u001b[0m \u001b[1m1580s\u001b[0m 14s/step - accuracy: 0.9425 - loss: 0.1825 - val_accuracy: 0.7158 - val_loss: 0.9482\n",
            "Epoch 6/10\n",
            "\u001b[1m110/110\u001b[0m \u001b[32m━━━━━━━━━━━━━━━━━━━━\u001b[0m\u001b[37m\u001b[0m \u001b[1m1607s\u001b[0m 15s/step - accuracy: 0.9629 - loss: 0.1364 - val_accuracy: 0.7523 - val_loss: 1.2906\n",
            "Epoch 7/10\n",
            "\u001b[1m110/110\u001b[0m \u001b[32m━━━━━━━━━━━━━━━━━━━━\u001b[0m\u001b[37m\u001b[0m \u001b[1m1671s\u001b[0m 15s/step - accuracy: 0.9560 - loss: 0.1313 - val_accuracy: 0.7568 - val_loss: 1.3393\n",
            "Epoch 8/10\n",
            "\u001b[1m110/110\u001b[0m \u001b[32m━━━━━━━━━━━━━━━━━━━━\u001b[0m\u001b[37m\u001b[0m \u001b[1m1580s\u001b[0m 14s/step - accuracy: 0.9611 - loss: 0.1268 - val_accuracy: 0.7511 - val_loss: 1.4818\n",
            "Epoch 9/10\n",
            "\u001b[1m110/110\u001b[0m \u001b[32m━━━━━━━━━━━━━━━━━━━━\u001b[0m\u001b[37m\u001b[0m \u001b[1m1603s\u001b[0m 15s/step - accuracy: 0.9725 - loss: 0.0874 - val_accuracy: 0.7352 - val_loss: 1.7229\n",
            "Epoch 10/10\n",
            "\u001b[1m110/110\u001b[0m \u001b[32m━━━━━━━━━━━━━━━━━━━━\u001b[0m\u001b[37m\u001b[0m \u001b[1m1583s\u001b[0m 14s/step - accuracy: 0.9645 - loss: 0.1093 - val_accuracy: 0.7477 - val_loss: 1.7148\n",
            "Final Accuracy on test set: 74.77%\n"
          ]
        }
      ]
    },
    {
      "cell_type": "markdown",
      "source": [
        "# Transformer-based classifier"
      ],
      "metadata": {
        "id": "ryol4_TTbu0N"
      }
    },
    {
      "cell_type": "code",
      "source": [
        "\n",
        "device = torch.device(\"cuda\" if torch.cuda.is_available() else \"cpu\")\n",
        "print(f\"Using device: {device}\")\n",
        "\n",
        "max_length = min(max(len(seq) for seq in data_cleaned['encoded_kmers']), 500)\n",
        "print(f\"Max Sequence Length: {max_length}\")\n",
        "\n",
        "X_padded = tf.keras.preprocessing.sequence.pad_sequences(data_cleaned['encoded_kmers'], maxlen=max_length, padding=\"post\")\n",
        "y = torch.tensor(data_cleaned['class'].values, dtype=torch.long)\n",
        "\n",
        "X_train, X_temp, y_train, y_temp = train_test_split(X_padded, y, test_size=0.2, random_state=42)\n",
        "X_val, X_test, y_val, y_test = train_test_split(X_temp, y_temp, test_size=0.5, random_state=42)\n",
        "\n",
        "X_train, X_val, X_test = map(lambda x: torch.tensor(x, dtype=torch.long), [X_train, X_val, X_test])\n",
        "\n",
        "batch_size = 16\n",
        "train_loader = DataLoader(TensorDataset(X_train, y_train), batch_size=batch_size, shuffle=True, pin_memory=True)\n",
        "val_loader = DataLoader(TensorDataset(X_val, y_val), batch_size=batch_size, shuffle=False, pin_memory=True)\n",
        "test_loader = DataLoader(TensorDataset(X_test, y_test), batch_size=batch_size, shuffle=False, pin_memory=True)\n",
        "\n",
        "class DNA_Transformer(nn.Module):\n",
        "    def __init__(self, vocab_size, embed_size=64, num_heads=8, num_classes=7, num_layers=2, hidden_size=256):\n",
        "        super(DNA_Transformer, self).__init__()\n",
        "        self.embedding = nn.Embedding(vocab_size, embed_size, padding_idx=0)\n",
        "        self.transformer = nn.Transformer(\n",
        "            d_model=embed_size,\n",
        "            nhead=num_heads,\n",
        "            num_encoder_layers=num_layers,\n",
        "            dim_feedforward=hidden_size\n",
        "        )\n",
        "        self.fc1 = nn.Linear(embed_size, 256)\n",
        "        self.batch_norm = nn.BatchNorm1d(256)\n",
        "        self.dropout = nn.Dropout(0.5)\n",
        "        self.fc2 = nn.Linear(256, num_classes)\n",
        "\n",
        "    def forward(self, x):\n",
        "        x = self.embedding(x)\n",
        "        x = x.permute(1, 0, 2)\n",
        "        x = self.transformer(x, x)\n",
        "        x = x[-1, :, :]\n",
        "        x = self.fc1(x)\n",
        "        x = self.batch_norm(x)\n",
        "        x = self.dropout(x)\n",
        "        x = self.fc2(x)\n",
        "        return x\n",
        "\n",
        "vocab_size = len(vocab) + 1\n",
        "model = DNA_Transformer(vocab_size=vocab_size).to(device)\n",
        "criterion = nn.CrossEntropyLoss()\n",
        "optimizer = optim.AdamW(model.parameters(), lr=0.0001)\n",
        "\n",
        "epochs = 50\n",
        "for epoch in range(epochs):\n",
        "    model.train()\n",
        "    total_loss = 0\n",
        "    correct = 0\n",
        "    total = 0\n",
        "    for batch_X, batch_y in train_loader:\n",
        "        batch_X, batch_y = batch_X.to(device), batch_y.to(device)\n",
        "        optimizer.zero_grad()\n",
        "        outputs = model(batch_X)\n",
        "        loss = criterion(outputs, batch_y)\n",
        "        loss.backward()\n",
        "        optimizer.step()\n",
        "        total_loss += loss.item()\n",
        "        _, predicted = torch.max(outputs, 1)\n",
        "        correct += (predicted == batch_y).sum().item()\n",
        "        total += batch_y.size(0)\n",
        "    accuracy = 100 * correct / total\n",
        "    print(f\"Epoch [{epoch+1}/{epochs}], Loss: {total_loss/len(train_loader):.4f}, Accuracy: {accuracy:.2f}%\")\n",
        "\n",
        "model.eval()\n",
        "correct = 0\n",
        "total = 0\n",
        "with torch.no_grad():\n",
        "    for batch_X, batch_y in test_loader:\n",
        "        batch_X, batch_y = batch_X.to(device), batch_y.to(device)\n",
        "        outputs = model(batch_X)\n",
        "        _, predicted = torch.max(outputs, 1)\n",
        "        correct += (predicted == batch_y).sum().item()\n",
        "        total += batch_y.size(0)\n",
        "accuracy = 100 * correct / total\n",
        "print(f\"Final Accuracy on test set: {accuracy:.2f}%\")\n"
      ],
      "metadata": {
        "id": "UOmf8xUtHB6m",
        "colab": {
          "base_uri": "https://localhost:8080/"
        },
        "outputId": "7a36dbec-9122-40bc-aa18-0c9e79aec7f2"
      },
      "execution_count": null,
      "outputs": [
        {
          "output_type": "stream",
          "name": "stdout",
          "text": [
            "Using device: cuda\n",
            "Max Length: 500\n",
            "Unique labels in dataset: tensor([0, 1, 2, 3, 4, 5, 6])\n",
            "Min index in X_padded: 0, Max index in X_padded: 4469\n",
            "Unique labels in y: tensor([0, 1, 2, 3, 4, 5, 6])\n"
          ]
        },
        {
          "output_type": "stream",
          "name": "stderr",
          "text": [
            "/usr/local/lib/python3.11/dist-packages/torch/nn/modules/transformer.py:385: UserWarning: enable_nested_tensor is True, but self.use_nested_tensor is False because encoder_layer.self_attn.batch_first was not True(use batch_first for better inference performance)\n",
            "  warnings.warn(\n"
          ]
        },
        {
          "output_type": "stream",
          "name": "stdout",
          "text": [
            "Epoch [1/50], Loss: 2.1451, Accuracy: 15.78%\n",
            "Epoch [2/50], Loss: 1.9450, Accuracy: 24.77%\n",
            "Epoch [3/50], Loss: 1.7903, Accuracy: 33.56%\n",
            "Epoch [4/50], Loss: 1.6592, Accuracy: 40.72%\n",
            "Epoch [5/50], Loss: 1.5441, Accuracy: 47.03%\n",
            "Epoch [6/50], Loss: 1.4138, Accuracy: 51.51%\n",
            "Epoch [7/50], Loss: 1.2911, Accuracy: 56.48%\n",
            "Epoch [8/50], Loss: 1.2007, Accuracy: 59.30%\n",
            "Epoch [9/50], Loss: 1.0779, Accuracy: 64.21%\n",
            "Epoch [10/50], Loss: 0.9735, Accuracy: 67.81%\n",
            "Epoch [11/50], Loss: 0.8823, Accuracy: 70.92%\n",
            "Epoch [12/50], Loss: 0.8321, Accuracy: 73.23%\n",
            "Epoch [13/50], Loss: 0.7473, Accuracy: 76.51%\n",
            "Epoch [14/50], Loss: 0.6505, Accuracy: 78.82%\n",
            "Epoch [15/50], Loss: 0.6072, Accuracy: 80.59%\n",
            "Epoch [16/50], Loss: 0.5201, Accuracy: 83.88%\n",
            "Epoch [17/50], Loss: 0.4789, Accuracy: 84.99%\n",
            "Epoch [18/50], Loss: 0.4488, Accuracy: 85.82%\n",
            "Epoch [19/50], Loss: 0.4002, Accuracy: 87.67%\n",
            "Epoch [20/50], Loss: 0.3756, Accuracy: 88.30%\n",
            "Epoch [21/50], Loss: 0.3522, Accuracy: 89.55%\n",
            "Epoch [22/50], Loss: 0.3245, Accuracy: 89.81%\n",
            "Epoch [23/50], Loss: 0.2783, Accuracy: 91.27%\n",
            "Epoch [24/50], Loss: 0.2350, Accuracy: 92.49%\n",
            "Epoch [25/50], Loss: 0.2332, Accuracy: 92.98%\n",
            "Epoch [26/50], Loss: 0.2075, Accuracy: 93.46%\n",
            "Epoch [27/50], Loss: 0.2059, Accuracy: 93.21%\n",
            "Epoch [28/50], Loss: 0.1885, Accuracy: 94.06%\n",
            "Epoch [29/50], Loss: 0.1567, Accuracy: 94.89%\n",
            "Epoch [30/50], Loss: 0.1553, Accuracy: 95.21%\n",
            "Epoch [31/50], Loss: 0.1316, Accuracy: 96.06%\n",
            "Epoch [32/50], Loss: 0.1371, Accuracy: 95.38%\n",
            "Epoch [33/50], Loss: 0.1186, Accuracy: 96.03%\n",
            "Epoch [34/50], Loss: 0.1012, Accuracy: 96.72%\n",
            "Epoch [35/50], Loss: 0.1290, Accuracy: 95.83%\n",
            "Epoch [36/50], Loss: 0.1059, Accuracy: 96.66%\n",
            "Epoch [37/50], Loss: 0.1008, Accuracy: 96.86%\n",
            "Epoch [38/50], Loss: 0.0843, Accuracy: 97.37%\n",
            "Epoch [39/50], Loss: 0.0857, Accuracy: 97.40%\n",
            "Epoch [40/50], Loss: 0.0873, Accuracy: 97.40%\n",
            "Epoch [41/50], Loss: 0.0749, Accuracy: 97.37%\n",
            "Epoch [42/50], Loss: 0.1020, Accuracy: 96.26%\n",
            "Epoch [43/50], Loss: 0.0758, Accuracy: 97.80%\n",
            "Epoch [44/50], Loss: 0.0542, Accuracy: 98.17%\n",
            "Epoch [45/50], Loss: 0.0564, Accuracy: 98.12%\n",
            "Epoch [46/50], Loss: 0.0613, Accuracy: 98.06%\n",
            "Epoch [47/50], Loss: 0.0878, Accuracy: 97.37%\n",
            "Epoch [48/50], Loss: 0.0569, Accuracy: 98.26%\n",
            "Epoch [49/50], Loss: 0.0583, Accuracy: 97.92%\n",
            "Epoch [50/50], Loss: 0.0868, Accuracy: 97.17%\n",
            "Final Accuracy on test set: 73.06%\n"
          ]
        }
      ]
    },
    {
      "cell_type": "code",
      "source": [],
      "metadata": {
        "id": "7Cc6mIQbMuTW"
      },
      "execution_count": null,
      "outputs": []
    }
  ],
  "metadata": {
    "accelerator": "GPU",
    "colab": {
      "gpuType": "T4",
      "provenance": []
    },
    "kernelspec": {
      "display_name": "Python 3",
      "name": "python3"
    },
    "language_info": {
      "name": "python"
    }
  },
  "nbformat": 4,
  "nbformat_minor": 0
}